{
 "cells": [
  {
   "cell_type": "code",
   "execution_count": 4,
   "metadata": {},
   "outputs": [
    {
     "name": "stdout",
     "output_type": "stream",
     "text": [
      "[3, 6, 2, 9, 0, 8, 6, 2, 6, 9, 1, 2, 0, 2, 3]\n"
     ]
    }
   ],
   "source": [
    "def rotate(nums, k):\n",
    "    for i in range(k):\n",
    "        size = len(nums)\n",
    "        ins_ele = nums[size-1]\n",
    "        for it in range(size-1,0,-1):\n",
    "            nums[it] = nums[it-1]\n",
    "        nums[0] = ins_ele\n",
    "    return nums\n",
    "print(rotate([3,3,6,2,9,0,8,6,2,6,9,1,2,0,2],11939))\n",
    "\n",
    "# Time limit exceeded in leetcode\n",
    "\n",
    "\n",
    "\n"
   ]
  },
  {
   "cell_type": "markdown",
   "metadata": {},
   "source": [
    "# Alternative way for rotating the array\n"
   ]
  },
  {
   "cell_type": "code",
   "execution_count": 1,
   "metadata": {},
   "outputs": [
    {
     "name": "stdout",
     "output_type": "stream",
     "text": [
      "[1, 2, 3, 4, 5, 6, 7]\n",
      "[8, 9, 10]\n"
     ]
    },
    {
     "data": {
      "text/plain": [
       "[8, 9, 10, 1, 2, 3, 4, 5, 6, 7]"
      ]
     },
     "execution_count": 1,
     "metadata": {},
     "output_type": "execute_result"
    }
   ],
   "source": [
    "def rotate(nums,k):\n",
    "        # nums = [1,2,3,4,5,6,7,8,9,10]\n",
    "        # # nums = [1,2,3,4,5,6,7]\n",
    "        # k = 3\n",
    "        # def swap_subarray(i,j,lst):\n",
    "        #     '''swap right k subarray with left k subarray'''\n",
    "        #     while i<j:\n",
    "        #         lst[i],lst[j]=lst[j],lst[i]\n",
    "        #         i+=1\n",
    "        #         j-=1\n",
    "        #     return lst \n",
    "        n = len(nums)\n",
    "        k = k % n\n",
    "        \n",
    "        # Step-1\n",
    "        i = 0\n",
    "        j = n-k\n",
    "        sub_arr_1 = nums[i:j]\n",
    "        # sub_arr_1 = sub_arr_1[::-1]\n",
    "        # nums = swap_subarray(i,j,nums)\n",
    "        print(sub_arr_1) #[7, 6, 5, 4, 3, 2, 1, 8, 9, 10]\n",
    "        \n",
    "        # Step-2\n",
    "        # swap right k subarray with left k subarray\n",
    "        i = n-k\n",
    "        j = n\n",
    "        sub_arr_2 = nums[i:j]\n",
    "        # sub_arr_2 = sub_arr_2[::-1]\n",
    "        # nums = swap_subarray(i,j,nums)\n",
    "        print(sub_arr_2)  #[7, 6, 5, 4, 3, 2, 1, 10, 9, 8]\n",
    "        nums = sub_arr_2+sub_arr_1\n",
    "        # Step-3\n",
    "        # reverse total nums\n",
    "        # nums = nums[::-1]\n",
    "        return nums \n",
    "\n",
    "rotate([1,2,3,4,5,6,7,8,9,10],3)\n",
    "\n"
   ]
  },
  {
   "cell_type": "markdown",
   "metadata": {},
   "source": [
    "Accepted Solution"
   ]
  },
  {
   "cell_type": "code",
   "execution_count": 2,
   "metadata": {},
   "outputs": [
    {
     "data": {
      "text/plain": [
       "[8, 9, 10, 1, 2, 3, 4, 5, 6, 7]"
      ]
     },
     "execution_count": 2,
     "metadata": {},
     "output_type": "execute_result"
    }
   ],
   "source": [
    "def rotate(nums, k):\n",
    "    def swap_subarray(i,j,lst):\n",
    "        '''swap right k subarray with left k subarray'''\n",
    "        while i<j:\n",
    "            lst[i],lst[j]=lst[j],lst[i]\n",
    "            i+=1\n",
    "            j-=1\n",
    "        return lst \n",
    "    n = len(nums)\n",
    "    k = k % n\n",
    "    \n",
    "    # Step-1\n",
    "    i = 0\n",
    "    j = n-k-1\n",
    "    # sub_arr_1 = nums[i:j]\n",
    "    # sub_arr_1 = sub_arr_1[::-1]\n",
    "    nums = swap_subarray(i,j,nums)\n",
    "    # print(sub_arr_1) #[7, 6, 5, 4, 3, 2, 1, 8, 9, 10]\n",
    "    \n",
    "    # Step-2\n",
    "    # swap right k subarray with left k subarray\n",
    "    i = n-k\n",
    "    j = n-1\n",
    "    # sub_arr_2 = nums[i:j]\n",
    "    # sub_arr_2 = sub_arr_2[::-1]\n",
    "    nums = swap_subarray(i,j,nums)\n",
    "    nums = swap_subarray(0,n-1,nums)\n",
    "    # print(sub_arr_2)  #[7, 6, 5, 4, 3, 2, 1, 10, 9, 8]\n",
    "    # nums = sub_arr_2+sub_arr_1\n",
    "    # Step-3\n",
    "    # reverse total nums\n",
    "    # nums = nums[::-1]\n",
    "    return nums \n",
    "\n",
    "rotate([1,2,3,4,5,6,7,8,9,10],3)"
   ]
  }
 ],
 "metadata": {
  "kernelspec": {
   "display_name": "My_Playground_Environment",
   "language": "python",
   "name": "python3"
  },
  "language_info": {
   "codemirror_mode": {
    "name": "ipython",
    "version": 3
   },
   "file_extension": ".py",
   "mimetype": "text/x-python",
   "name": "python",
   "nbconvert_exporter": "python",
   "pygments_lexer": "ipython3",
   "version": "3.11.4"
  }
 },
 "nbformat": 4,
 "nbformat_minor": 2
}
