{
  "nbformat": 4,
  "nbformat_minor": 0,
  "metadata": {
    "colab": {
      "provenance": [],
      "authorship_tag": "ABX9TyPY4i6nIkKV47ff+U1Zeq7t",
      "include_colab_link": true
    },
    "kernelspec": {
      "name": "python3",
      "display_name": "Python 3"
    },
    "language_info": {
      "name": "python"
    }
  },
  "cells": [
    {
      "cell_type": "markdown",
      "metadata": {
        "id": "view-in-github",
        "colab_type": "text"
      },
      "source": [
        "<a href=\"https://colab.research.google.com/github/KamaleshTK01/DSA/blob/main/List_2D.ipynb\" target=\"_parent\"><img src=\"https://colab.research.google.com/assets/colab-badge.svg\" alt=\"Open In Colab\"/></a>"
      ]
    },
    {
      "cell_type": "markdown",
      "source": [
        "\n",
        "\n",
        "```\n",
        "**List 2D**\n",
        "```\n",
        "\n"
      ],
      "metadata": {
        "id": "WXSwv8pzV46B"
      }
    },
    {
      "cell_type": "code",
      "source": [
        "# Row Sum\n",
        "def solve(A):\n",
        "    lst_int = []\n",
        "    pod = 0\n",
        "    for i in range(len(A)):\n",
        "        sum = 0\n",
        "        for j in range(len(A[i])):\n",
        "            sum = sum + A[i][j]\n",
        "        lst_int.append(sum)\n",
        "    return lst_int\n",
        "A = [[1,2,3,4],\n",
        "[5,6,7,8],\n",
        "[9,2,3,4]]\n",
        "print(solve(A))"
      ],
      "metadata": {
        "colab": {
          "base_uri": "https://localhost:8080/"
        },
        "id": "IGYBRtVlUdns",
        "outputId": "87b831d6-9fbe-482d-afcd-5b7483ff0ab4"
      },
      "execution_count": 27,
      "outputs": [
        {
          "output_type": "stream",
          "name": "stdout",
          "text": [
            "[10, 26, 18]\n"
          ]
        }
      ]
    },
    {
      "cell_type": "code",
      "source": [
        "# Add the matrices\n",
        "# Problem Description\n",
        "\n",
        "# You are given two matrices A & B of same size, you have to return another matrix which is the sum of A and B.\n",
        "# Note: Matrices are of same size means the number of rows and number of columns of both matrices are equal.\n",
        "def solve(A, B):\n",
        "  z =[]\n",
        "  if len(A) == len(B):\n",
        "      for i in range(len(A)):\n",
        "          x = []\n",
        "          for j in range(len(A[0])):\n",
        "              x.append(A[i][j] + B[i][j])\n",
        "              # POS=POS+1\n",
        "          z.append(x)\n",
        "      return z\n",
        "\n",
        "\n",
        "A = [[1, 2, 3],\n",
        "     [4, 5, 6],\n",
        "     [7, 8, 9]]\n",
        "\n",
        "B = [[9, 8, 7],\n",
        "     [6, 5, 4],\n",
        "     [3, 2, 1]]\n",
        "\n",
        "print(solve(A,B))"
      ],
      "metadata": {
        "colab": {
          "base_uri": "https://localhost:8080/"
        },
        "id": "qnve7-K_UddI",
        "outputId": "74332be6-e27a-4d97-be95-488d7477d955"
      },
      "execution_count": 29,
      "outputs": [
        {
          "output_type": "stream",
          "name": "stdout",
          "text": [
            "[[10, 10, 10], [10, 10, 10], [10, 10, 10]]\n"
          ]
        }
      ]
    },
    {
      "cell_type": "code",
      "source": [
        "# Main Diagonal Sum\n",
        "# Problem Description\n",
        "# You are given a N X N integer matrix. You have to find the sum of all the main diagonal elements of A.\n",
        "\n",
        "# Main diagonal of a matrix A is a collection of elements A[i, j] such that i = j.\n",
        "\n",
        "def solve(A):\n",
        "    sum = 0\n",
        "    for i in range(len(A)):\n",
        "        for j in range(len(A[i])):\n",
        "            if i == j:\n",
        "                sum = sum+A[i][j]\n",
        "    return sum\n",
        "A = [[1,-2,-3],[-4,5,-6],[-7,-8,9]]\n",
        "print(solve(A))"
      ],
      "metadata": {
        "colab": {
          "base_uri": "https://localhost:8080/"
        },
        "id": "iZnhnMQ7UdNB",
        "outputId": "3295f902-e0a5-4d4c-c604-58b47265910b"
      },
      "execution_count": 30,
      "outputs": [
        {
          "output_type": "stream",
          "name": "stdout",
          "text": [
            "15\n"
          ]
        }
      ]
    },
    {
      "cell_type": "code",
      "source": [
        "# Largest in each Row of 2D Array\n",
        "# Problem Description\n",
        "# Given a 2D array A of N rows and M columns. Find value of largest element in each row.\n",
        "def solve(A):\n",
        "    res  = []\n",
        "    for i in range(len(A)):\n",
        "        max  = 0\n",
        "        for j in range(len(A[0])):\n",
        "            if max < A[i][j]:\n",
        "                max = A[i][j]\n",
        "        res.append(max)\n",
        "    return res\n",
        "\n",
        "A = [[1, 2], [1, 3]]\n",
        "print(solve(A))"
      ],
      "metadata": {
        "colab": {
          "base_uri": "https://localhost:8080/"
        },
        "id": "MtBgodLSUc1L",
        "outputId": "8888f2f9-301d-4ab4-e2cc-f20cc3505273"
      },
      "execution_count": 31,
      "outputs": [
        {
          "output_type": "stream",
          "name": "stdout",
          "text": [
            "[2, 3]\n"
          ]
        }
      ]
    },
    {
      "cell_type": "code",
      "source": [
        "# Q1. Matrix Multiplication\n",
        "# Problem Description\n",
        "# You are given two integer matrices A(having M X N size) and B(having N X P). You have to multiply matrix A with B and return the resultant matrix. (i.e. return the matrix AB).\n",
        "# Matrix Multiplication\n",
        "def solve( A, B):\n",
        "    # To find the size of matrix (Dimension)\n",
        "    res = []\n",
        "    if len(A[0]) == len(B):\n",
        "      for i in range(len(A)):\n",
        "        res.append([0]*len(B[0]))\n",
        "      for i in range(len(A)):\n",
        "        for j in range(len(B[0])):\n",
        "          for k in range(len(A[0])):\n",
        "            res[i][j] = res[i][j] + A[i][k] * B[k][j]\n",
        "      # for i in range(len(A)):\n",
        "      #     for j in range(len(B)):\n",
        "      return res\n",
        "\n",
        "\n",
        "A = [[1, 1]]  # 1*2=2*1\n",
        "B = [[2],\n",
        "     [3]]\n",
        "\n",
        "\n",
        "# A = [[1, 2],\n",
        "#      [3, 4]]\n",
        "# B = [[5, 6],\n",
        "#      [7, 8]]\n",
        "\n",
        "print(solve(A,B))"
      ],
      "metadata": {
        "id": "XdVVPt-wfBJ3",
        "colab": {
          "base_uri": "https://localhost:8080/"
        },
        "outputId": "f99ec619-5f39-460e-c4b7-f18df7450f32"
      },
      "execution_count": 18,
      "outputs": [
        {
          "output_type": "stream",
          "name": "stdout",
          "text": [
            "[[5]]\n"
          ]
        }
      ]
    },
    {
      "cell_type": "code",
      "source": [
        "# Q2. Row & Column Sums\n",
        "# Problem Description\n",
        "# You are given a matrix A, you have to return an array containing sum of each row elements followed by sum of each column elements of the matrix.\n",
        "\n",
        "# NOTE: If the matrix given is of size (N x M), then the array you return would be of size (N + M), where first N elements contain the sum of each N rows, and the next M elements contain the sum of each M columns.\n",
        "def solve( A):\n",
        "    r=[]\n",
        "    c=[]\n",
        "    for i in range(len(A)):\n",
        "        s=0\n",
        "        for j in range(len(A[0])):\n",
        "            s+=A[i][j]\n",
        "        r.append(s)\n",
        "    for k in range(len(A[0])):\n",
        "        su=0\n",
        "        for l in range(len(A)):\n",
        "            su+=A[l][k]\n",
        "        c.append(su)\n",
        "    r.extend(c)\n",
        "    return r\n",
        "A = [[1, 2],[4, 5],[8, 9]]\n",
        "\n",
        "\n",
        "print(solve(A))"
      ],
      "metadata": {
        "id": "cGEItykQTZuE"
      },
      "execution_count": null,
      "outputs": []
    },
    {
      "cell_type": "code",
      "source": [
        "# Q3. Matrix Transpose\n",
        "\n",
        "# Problem Description\n",
        "# Given a 2D integer array A, return the transpose of A.\n",
        "\n",
        "# The transpose of a matrix is the matrix flipped over its main diagonal, switching the matrix's row and column indices.\n",
        "def solve(A):\n",
        "        res = []\n",
        "        for i in range(len(A[0])):\n",
        "            tmp = []\n",
        "            for j in range(len(A)):\n",
        "                tmp.append(A[j][i])\n",
        "            res.append(tmp)\n",
        "        return res\n",
        "# A = [[1, 2],[1, 2],[1, 2]]\n",
        "A = [[1, 2, 3],[4, 5, 6],[7, 8, 9]]\n",
        "print(solve(A))"
      ],
      "metadata": {
        "id": "u2nkfv42P_4N",
        "colab": {
          "base_uri": "https://localhost:8080/"
        },
        "outputId": "7fbdbf61-91f9-46bf-e960-752fda0c2313"
      },
      "execution_count": null,
      "outputs": [
        {
          "output_type": "stream",
          "name": "stdout",
          "text": [
            "[[1, 4, 7], [2, 5, 8], [3, 6, 9]]\n"
          ]
        }
      ]
    },
    {
      "cell_type": "code",
      "source": [
        "# Q4. Upper Triangular Matrix\n",
        "# Problem Description\n",
        "\n",
        "# You are given a N X N integer matrix A. You have to tell whether it is an upper triangular matrix or not.\n",
        "\n",
        "# A square matrix is called upper triangular if all the entries below the main diagonal are zero. For any matrix P if elements P[i, j] = 0 (where j < i (1-based)).\n",
        "\n",
        "def solve( A):\n",
        "    for i in range(len(A)):\n",
        "        for j in range(len(A[i])):\n",
        "            if j<i and A[i][j] !=0:\n",
        "                return 0\n",
        "    return 1\n",
        "A =  A = [[1, 0, -7],\n",
        "      [0, 0, -8],\n",
        "      [0, 0, 9]]\n",
        "# A = [[-170,-626,-992,293,-576,841,521,-486,786,-161,-585,-492],[0,925,358,139,-370,805,-302,-840,970,-81,-514,863],[0,0,414,524,-790,494,-66,427,-750,-639,-181,495],[0,0,0,691,345,-10,566,651,685,-123,-449,886],[0,0,0,0,-501,838,709,505,-698,-391,-944,188],[0,0,0,0,0,398,-749,77,898,-702,-65,-667],[0,0,0,0,0,0,-508,-99,-499,-60,912,935],[0,0,0,0,0,0,0,297,-88,152,-165,718],[0,0,0,0,0,0,0,0,-837,192,704,-939],[0,0,0,0,0,0,0,0,0,-746,507,-76],[0,0,0,0,0,0,0,0,0,0,-142,-705],[0,0,0,0,0,0,0,0,0,0,0,-867]]\n",
        "print(solve(A))"
      ],
      "metadata": {
        "colab": {
          "base_uri": "https://localhost:8080/"
        },
        "id": "UT2zz2PoZB5A",
        "outputId": "3d9e438f-f757-4f3a-d039-90026d475349"
      },
      "execution_count": 25,
      "outputs": [
        {
          "output_type": "stream",
          "name": "stdout",
          "text": [
            "1\n"
          ]
        }
      ]
    },
    {
      "cell_type": "code",
      "source": [
        "# Q5. Find Determinant\n",
        "\n",
        "# Problem Description\n",
        "\n",
        "# You are given an N X N(where N = 2 or N = 3) 2D integer matrix A.\n",
        "# You have to find the value of its determinant (det(A) or |A|).\n",
        "def solve(A):\n",
        "        # def solve(self, A):\n",
        "        Determinant = 0\n",
        "        if len(A)== 2:\n",
        "            Determinant = (A[0][0]*A[1][1])-(A[0][1]*A[1][0])\n",
        "        if len(A) == 3:\n",
        "            a = A[0][0] * ((A[1][1] * A[2][2]) -(A[1][2] * A[2][1]))\n",
        "            b = -A[0][1] * ((A[1][0]*A[2][2] - A[1][2]*A[2][0]))\n",
        "            c = A[0][2] * ((A[1][0]*A[2][1] - A[1][1]* A[2][0]))\n",
        "            Determinant = a+b+c\n",
        "        return Determinant\n",
        "\n",
        "# A = [[1, 2],\n",
        "#       [3, 4]]\n",
        "A = [[6, 1, 1],\n",
        "      [4, -2, 5],\n",
        "      [2, 8, 7]]\n",
        "\n",
        "print(solve(A))"
      ],
      "metadata": {
        "colab": {
          "base_uri": "https://localhost:8080/"
        },
        "id": "sXFx8PCgvnuG",
        "outputId": "5bf6e00d-a438-43d6-c786-d542e14f744d"
      },
      "execution_count": 23,
      "outputs": [
        {
          "output_type": "stream",
          "name": "stdout",
          "text": [
            "-306\n"
          ]
        }
      ]
    },
    {
      "cell_type": "code",
      "source": [],
      "metadata": {
        "id": "BZn4xIMkSpfL"
      },
      "execution_count": null,
      "outputs": []
    }
  ]
}