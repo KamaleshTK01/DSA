{
 "cells": [
  {
   "cell_type": "code",
   "execution_count": null,
   "metadata": {},
   "outputs": [],
   "source": [
    "def addBinary(a, b):\n",
    "    carry = 0\n",
    "    res = []\n",
    "    for i in range(max(len(a),len(b)),0,-1):\n",
    "        if a[i] == \"1\" and b[i] == \"1\" :\n",
    "            carry = 1\n",
    "            res[:0]=\"0\" \n",
    "        elif (a[i] ==\"0\" and b[i] == \"1\") or (a[i] ==\"1\" and b[i] == \"0\"):\n",
    "            if carry == 1:\n",
    "                res[:0] = \"0\"\n",
    "            res[:0]=\"1\" \n",
    "    return res \n",
    "\n",
    "\n",
    "\n",
    "            "
   ]
  },
  {
   "cell_type": "code",
   "execution_count": 18,
   "metadata": {},
   "outputs": [
    {
     "name": "stdout",
     "output_type": "stream",
     "text": [
      "2\n",
      "2\n"
     ]
    }
   ],
   "source": [
    "a = \"11\"\n",
    "b = \"1\"\n",
    "carry = 0\n",
    "res = []\n",
    "for i in range(max(len(a),len(b))-1,-1,-1):\n",
    "    print(max(len(a),len(b)))\n",
    "    if i>min(len(a),len(b)):\n",
    "        print(a[i]+b[i],end=\" \")\n",
    "    # if a[i] == \"1\" and b[i] == \"1\" and i<max(len(a),len(b)) and i>min(len(a),len(b)) :\n",
    "    #     carry = 1\n",
    "    #     res[:0]=\"0\" \n",
    "    # elif (a[i] ==\"0\" and b[j] == \"1\") or (a[i] ==\"1\" and b[j] == \"0\") and i<max(len(a),len(b)) and j<max(len(a),len(b)):\n",
    "    #     if carry == 1:\n",
    "    #         res[:0] = \"0\"\n",
    "    #     res[:0]=\"1\""
   ]
  },
  {
   "cell_type": "code",
   "execution_count": 1,
   "metadata": {},
   "outputs": [
    {
     "data": {
      "text/plain": [
       "30"
      ]
     },
     "execution_count": 1,
     "metadata": {},
     "output_type": "execute_result"
    }
   ],
   "source": [
    "def add(a,b):\n",
    "    '''This function is used to add two numbers\n",
    "    a = 10, b = 20\n",
    "    10\n",
    "    20\n",
    "    30\n",
    "    ''' \n",
    "    return a+b\n",
    "\n",
    "add(10,20)"
   ]
  },
  {
   "cell_type": "code",
   "execution_count": 4,
   "metadata": {},
   "outputs": [
    {
     "name": "stdout",
     "output_type": "stream",
     "text": [
      "Help on function add in module __main__:\n",
      "\n",
      "add(a, b)\n",
      "    This function is used to add two numbers\n",
      "    a = 10, b = 20\n",
      "    10\n",
      "    20\n",
      "    30\n",
      "\n"
     ]
    }
   ],
   "source": [
    "help(add)"
   ]
  },
  {
   "cell_type": "code",
   "execution_count": null,
   "metadata": {},
   "outputs": [],
   "source": []
  }
 ],
 "metadata": {
  "kernelspec": {
   "display_name": "My_Playground_Environment",
   "language": "python",
   "name": "python3"
  },
  "language_info": {
   "codemirror_mode": {
    "name": "ipython",
    "version": 3
   },
   "file_extension": ".py",
   "mimetype": "text/x-python",
   "name": "python",
   "nbconvert_exporter": "python",
   "pygments_lexer": "ipython3",
   "version": "3.11.4"
  }
 },
 "nbformat": 4,
 "nbformat_minor": 2
}
